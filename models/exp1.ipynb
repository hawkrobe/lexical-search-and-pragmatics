{
 "cells": [
  {
   "cell_type": "markdown",
   "metadata": {
    "id": "54ZMyOWfsEGS"
   },
   "source": [
    "# importing embeddings, vocabulary, & functions file\n",
    "We load the embeddings, vocabulary, and all the search functions. The functions have been predefined and are stored in the search-models subdirectory in the github repository, so we directly load them here."
   ]
  },
  {
   "cell_type": "code",
   "execution_count": 1,
   "metadata": {
    "id": "BxoEmRAHPuDn"
   },
   "outputs": [],
   "source": [
    "import networkx as nx\n",
    "import pandas as pd\n",
    "import pickle\n",
    "import json\n",
    "import numpy as np\n",
    "from search import SWOW\n",
    "from pragmatics import RSA, nonRSA, utils\n",
    "import walker \n",
    "%load_ext autoreload\n",
    "%autoreload 2"
   ]
  },
  {
   "cell_type": "markdown",
   "metadata": {},
   "source": [
    "# check for OOV"
   ]
  },
  {
   "cell_type": "code",
   "execution_count": 124,
   "metadata": {},
   "outputs": [],
   "source": [
    "data = pd.read_csv(\"../data/exp1/exp1-cleaned.csv\").rename(columns={\"Word\": \"vocab_word\"})\n",
    "vocab = pd.read_csv(\"../data/walk_data/vocab.csv\").rename(columns={\"Word\": \"vocab_word\"})"
   ]
  },
  {
   "cell_type": "markdown",
   "metadata": {},
   "source": [
    "# experiment 1: candidate generation"
   ]
  },
  {
   "cell_type": "code",
   "execution_count": 125,
   "metadata": {},
   "outputs": [
    {
     "ename": "KeyError",
     "evalue": "\"The following 'id_vars' are not present in the DataFrame: ['clueFinal', 'wordpair_id']\"",
     "output_type": "error",
     "traceback": [
      "\u001b[0;31m---------------------------------------------------------------------------\u001b[0m",
      "\u001b[0;31mKeyError\u001b[0m                                  Traceback (most recent call last)",
      "Cell \u001b[0;32mIn[125], line 3\u001b[0m\n\u001b[1;32m      1\u001b[0m generation_study_data \u001b[38;5;241m=\u001b[39m (\n\u001b[1;32m      2\u001b[0m     pd\u001b[38;5;241m.\u001b[39mread_csv(\u001b[38;5;124m'\u001b[39m\u001b[38;5;124m../data/exp1/exp1-cleaned.csv\u001b[39m\u001b[38;5;124m'\u001b[39m)\n\u001b[0;32m----> 3\u001b[0m       \u001b[38;5;241m.\u001b[39mmelt(id_vars\u001b[38;5;241m=\u001b[39m[\u001b[38;5;124m'\u001b[39m\u001b[38;5;124mclueGiverID\u001b[39m\u001b[38;5;124m'\u001b[39m , \u001b[38;5;124m'\u001b[39m\u001b[38;5;124mwordpair_id\u001b[39m\u001b[38;5;124m'\u001b[39m, \u001b[38;5;124m'\u001b[39m\u001b[38;5;124mLevel\u001b[39m\u001b[38;5;124m'\u001b[39m, \u001b[38;5;124m'\u001b[39m\u001b[38;5;124mclueFinal\u001b[39m\u001b[38;5;124m'\u001b[39m], \n\u001b[1;32m      4\u001b[0m             value_vars\u001b[38;5;241m=\u001b[39m[\u001b[38;5;124m\"\u001b[39m\u001b[38;5;124mclueOption1\u001b[39m\u001b[38;5;124m\"\u001b[39m, \u001b[38;5;124m\"\u001b[39m\u001b[38;5;124mclueOption2\u001b[39m\u001b[38;5;124m\"\u001b[39m, \u001b[38;5;124m\"\u001b[39m\u001b[38;5;124mclueOption3\u001b[39m\u001b[38;5;124m\"\u001b[39m, \u001b[38;5;124m\"\u001b[39m\u001b[38;5;124mclueOption4\u001b[39m\u001b[38;5;124m\"\u001b[39m, \n\u001b[1;32m      5\u001b[0m                         \u001b[38;5;124m\"\u001b[39m\u001b[38;5;124mclueOption5\u001b[39m\u001b[38;5;124m\"\u001b[39m, \u001b[38;5;124m\"\u001b[39m\u001b[38;5;124mclueOption6\u001b[39m\u001b[38;5;124m\"\u001b[39m, \u001b[38;5;124m\"\u001b[39m\u001b[38;5;124mclueOption7\u001b[39m\u001b[38;5;124m\"\u001b[39m, \u001b[38;5;124m\"\u001b[39m\u001b[38;5;124mclueOption8\u001b[39m\u001b[38;5;124m\"\u001b[39m])\n\u001b[1;32m      6\u001b[0m       \u001b[38;5;241m.\u001b[39mrename(columns\u001b[38;5;241m=\u001b[39m{\u001b[38;5;124m\"\u001b[39m\u001b[38;5;124mvalue\u001b[39m\u001b[38;5;124m\"\u001b[39m: \u001b[38;5;124m\"\u001b[39m\u001b[38;5;124mClue1\u001b[39m\u001b[38;5;124m\"\u001b[39m})\n\u001b[1;32m      7\u001b[0m )\n\u001b[1;32m      8\u001b[0m generation_study_data \u001b[38;5;241m=\u001b[39m utils\u001b[38;5;241m.\u001b[39mapply_corrections(generation_study_data, corrections, vocab)\n\u001b[1;32m      9\u001b[0m generation_study_data \u001b[38;5;241m=\u001b[39m (\n\u001b[1;32m     10\u001b[0m     generation_study_data\u001b[38;5;241m.\u001b[39mdropna()\n\u001b[1;32m     11\u001b[0m       \u001b[38;5;241m.\u001b[39mdrop_duplicates()\n\u001b[0;32m   (...)\u001b[0m\n\u001b[1;32m     14\u001b[0m       \u001b[38;5;241m.\u001b[39magg(\u001b[38;5;124m'\u001b[39m\u001b[38;5;124m,\u001b[39m\u001b[38;5;124m'\u001b[39m\u001b[38;5;241m.\u001b[39mjoin)\n\u001b[1;32m     15\u001b[0m )\n",
      "File \u001b[0;32m~/miniconda3/envs/connector/lib/python3.11/site-packages/pandas/core/frame.py:8975\u001b[0m, in \u001b[0;36mDataFrame.melt\u001b[0;34m(self, id_vars, value_vars, var_name, value_name, col_level, ignore_index)\u001b[0m\n\u001b[1;32m   8965\u001b[0m \u001b[38;5;129m@Appender\u001b[39m(_shared_docs[\u001b[38;5;124m\"\u001b[39m\u001b[38;5;124mmelt\u001b[39m\u001b[38;5;124m\"\u001b[39m] \u001b[38;5;241m%\u001b[39m {\u001b[38;5;124m\"\u001b[39m\u001b[38;5;124mcaller\u001b[39m\u001b[38;5;124m\"\u001b[39m: \u001b[38;5;124m\"\u001b[39m\u001b[38;5;124mdf.melt(\u001b[39m\u001b[38;5;124m\"\u001b[39m, \u001b[38;5;124m\"\u001b[39m\u001b[38;5;124mother\u001b[39m\u001b[38;5;124m\"\u001b[39m: \u001b[38;5;124m\"\u001b[39m\u001b[38;5;124mmelt\u001b[39m\u001b[38;5;124m\"\u001b[39m})\n\u001b[1;32m   8966\u001b[0m \u001b[38;5;28;01mdef\u001b[39;00m \u001b[38;5;21mmelt\u001b[39m(\n\u001b[1;32m   8967\u001b[0m     \u001b[38;5;28mself\u001b[39m,\n\u001b[0;32m   (...)\u001b[0m\n\u001b[1;32m   8973\u001b[0m     ignore_index: \u001b[38;5;28mbool\u001b[39m \u001b[38;5;241m=\u001b[39m \u001b[38;5;28;01mTrue\u001b[39;00m,\n\u001b[1;32m   8974\u001b[0m ) \u001b[38;5;241m-\u001b[39m\u001b[38;5;241m>\u001b[39m DataFrame:\n\u001b[0;32m-> 8975\u001b[0m     \u001b[38;5;28;01mreturn\u001b[39;00m melt(\n\u001b[1;32m   8976\u001b[0m         \u001b[38;5;28mself\u001b[39m,\n\u001b[1;32m   8977\u001b[0m         id_vars\u001b[38;5;241m=\u001b[39mid_vars,\n\u001b[1;32m   8978\u001b[0m         value_vars\u001b[38;5;241m=\u001b[39mvalue_vars,\n\u001b[1;32m   8979\u001b[0m         var_name\u001b[38;5;241m=\u001b[39mvar_name,\n\u001b[1;32m   8980\u001b[0m         value_name\u001b[38;5;241m=\u001b[39mvalue_name,\n\u001b[1;32m   8981\u001b[0m         col_level\u001b[38;5;241m=\u001b[39mcol_level,\n\u001b[1;32m   8982\u001b[0m         ignore_index\u001b[38;5;241m=\u001b[39mignore_index,\n\u001b[1;32m   8983\u001b[0m     )\u001b[38;5;241m.\u001b[39m__finalize__(\u001b[38;5;28mself\u001b[39m, method\u001b[38;5;241m=\u001b[39m\u001b[38;5;124m\"\u001b[39m\u001b[38;5;124mmelt\u001b[39m\u001b[38;5;124m\"\u001b[39m)\n",
      "File \u001b[0;32m~/miniconda3/envs/connector/lib/python3.11/site-packages/pandas/core/reshape/melt.py:73\u001b[0m, in \u001b[0;36mmelt\u001b[0;34m(frame, id_vars, value_vars, var_name, value_name, col_level, ignore_index)\u001b[0m\n\u001b[1;32m     71\u001b[0m         missing \u001b[38;5;241m=\u001b[39m Index(com\u001b[38;5;241m.\u001b[39mflatten(id_vars))\u001b[38;5;241m.\u001b[39mdifference(cols)\n\u001b[1;32m     72\u001b[0m         \u001b[38;5;28;01mif\u001b[39;00m \u001b[38;5;129;01mnot\u001b[39;00m missing\u001b[38;5;241m.\u001b[39mempty:\n\u001b[0;32m---> 73\u001b[0m             \u001b[38;5;28;01mraise\u001b[39;00m \u001b[38;5;167;01mKeyError\u001b[39;00m(\n\u001b[1;32m     74\u001b[0m                 \u001b[38;5;124m\"\u001b[39m\u001b[38;5;124mThe following \u001b[39m\u001b[38;5;124m'\u001b[39m\u001b[38;5;124mid_vars\u001b[39m\u001b[38;5;124m'\u001b[39m\u001b[38;5;124m are not present \u001b[39m\u001b[38;5;124m\"\u001b[39m\n\u001b[1;32m     75\u001b[0m                 \u001b[38;5;124mf\u001b[39m\u001b[38;5;124m\"\u001b[39m\u001b[38;5;124min the DataFrame: \u001b[39m\u001b[38;5;132;01m{\u001b[39;00m\u001b[38;5;28mlist\u001b[39m(missing)\u001b[38;5;132;01m}\u001b[39;00m\u001b[38;5;124m\"\u001b[39m\n\u001b[1;32m     76\u001b[0m             )\n\u001b[1;32m     77\u001b[0m \u001b[38;5;28;01melse\u001b[39;00m:\n\u001b[1;32m     78\u001b[0m     id_vars \u001b[38;5;241m=\u001b[39m []\n",
      "\u001b[0;31mKeyError\u001b[0m: \"The following 'id_vars' are not present in the DataFrame: ['clueFinal', 'wordpair_id']\""
     ]
    }
   ],
   "source": [
    "generation_study_data = (\n",
    "    pd.read_csv('../data/exp1/exp1-cleaned.csv')\n",
    "      .melt(id_vars=['clueGiverID' , 'wordpair_id', 'Level', 'clueFinal'], \n",
    "            value_vars=[\"clueOption1\", \"clueOption2\", \"clueOption3\", \"clueOption4\", \n",
    "                        \"clueOption5\", \"clueOption6\", \"clueOption7\", \"clueOption8\"])\n",
    "      .rename(columns={\"value\": \"Clue1\"})\n",
    ")\n",
    "generation_study_data = utils.apply_corrections(generation_study_data, corrections, vocab)\n",
    "generation_study_data = (\n",
    "    generation_study_data.dropna()\n",
    "      .drop_duplicates()\n",
    "      .groupby(['clueGiverID','wordpair_id',  'Level', 'clueFinal'], \n",
    "               as_index=False)['correctedClue']\n",
    "      .agg(','.join)\n",
    ")\n",
    "generation_study_data['clue_list'] = generation_study_data['correctedClue'].str.split(',')\n",
    "common_candidates = SWOW.get_common_candidates(generation_study_data, '../data/exp1/e1_common_candidates.csv')"
   ]
  },
  {
   "cell_type": "code",
   "execution_count": 9,
   "metadata": {},
   "outputs": [
    {
     "data": {
      "text/html": [
       "<div>\n",
       "<style scoped>\n",
       "    .dataframe tbody tr th:only-of-type {\n",
       "        vertical-align: middle;\n",
       "    }\n",
       "\n",
       "    .dataframe tbody tr th {\n",
       "        vertical-align: top;\n",
       "    }\n",
       "\n",
       "    .dataframe thead th {\n",
       "        text-align: right;\n",
       "    }\n",
       "</style>\n",
       "<table border=\"1\" class=\"dataframe\">\n",
       "  <thead>\n",
       "    <tr style=\"text-align: right;\">\n",
       "      <th></th>\n",
       "      <th>clueGiverID</th>\n",
       "      <th>wordpair</th>\n",
       "      <th>Level</th>\n",
       "      <th>clueFinal</th>\n",
       "      <th>budget</th>\n",
       "      <th>behavioral_clue_list</th>\n",
       "      <th>len_cluelist_behavioral</th>\n",
       "      <th>len_cluelist_union</th>\n",
       "      <th>union_common</th>\n",
       "      <th>len_union_common</th>\n",
       "      <th>finalclue_index_union</th>\n",
       "      <th>len_cluelist_intersection</th>\n",
       "      <th>intersection_common</th>\n",
       "      <th>len_intersection_common</th>\n",
       "      <th>finalclue_index_intersection</th>\n",
       "    </tr>\n",
       "  </thead>\n",
       "  <tbody>\n",
       "    <tr>\n",
       "      <th>0</th>\n",
       "      <td>454955</td>\n",
       "      <td>bowl-sun</td>\n",
       "      <td>Medium</td>\n",
       "      <td>acai</td>\n",
       "      <td>budget=2</td>\n",
       "      <td>['brunch', 'yard game', 'bright', 'acai']</td>\n",
       "      <td>4</td>\n",
       "      <td>12218</td>\n",
       "      <td>['bright', 'brunch']</td>\n",
       "      <td>2</td>\n",
       "      <td>-1</td>\n",
       "      <td>12218</td>\n",
       "      <td>['bright', 'brunch']</td>\n",
       "      <td>2</td>\n",
       "      <td>-1</td>\n",
       "    </tr>\n",
       "    <tr>\n",
       "      <th>0</th>\n",
       "      <td>454955</td>\n",
       "      <td>bowl-sun</td>\n",
       "      <td>Medium</td>\n",
       "      <td>acai</td>\n",
       "      <td>budget=4</td>\n",
       "      <td>['brunch', 'yard game', 'bright', 'acai']</td>\n",
       "      <td>4</td>\n",
       "      <td>12218</td>\n",
       "      <td>['bright', 'brunch']</td>\n",
       "      <td>2</td>\n",
       "      <td>-1</td>\n",
       "      <td>12218</td>\n",
       "      <td>['bright', 'brunch']</td>\n",
       "      <td>2</td>\n",
       "      <td>-1</td>\n",
       "    </tr>\n",
       "    <tr>\n",
       "      <th>0</th>\n",
       "      <td>454955</td>\n",
       "      <td>bowl-sun</td>\n",
       "      <td>Medium</td>\n",
       "      <td>acai</td>\n",
       "      <td>budget=8</td>\n",
       "      <td>['brunch', 'yard game', 'bright', 'acai']</td>\n",
       "      <td>4</td>\n",
       "      <td>12218</td>\n",
       "      <td>['bright', 'brunch']</td>\n",
       "      <td>2</td>\n",
       "      <td>-1</td>\n",
       "      <td>12218</td>\n",
       "      <td>['bright', 'brunch']</td>\n",
       "      <td>2</td>\n",
       "      <td>-1</td>\n",
       "    </tr>\n",
       "    <tr>\n",
       "      <th>0</th>\n",
       "      <td>454955</td>\n",
       "      <td>bowl-sun</td>\n",
       "      <td>Medium</td>\n",
       "      <td>acai</td>\n",
       "      <td>budget=16</td>\n",
       "      <td>['brunch', 'yard game', 'bright', 'acai']</td>\n",
       "      <td>4</td>\n",
       "      <td>12218</td>\n",
       "      <td>['bright', 'brunch']</td>\n",
       "      <td>2</td>\n",
       "      <td>-1</td>\n",
       "      <td>12218</td>\n",
       "      <td>['bright', 'brunch']</td>\n",
       "      <td>2</td>\n",
       "      <td>-1</td>\n",
       "    </tr>\n",
       "    <tr>\n",
       "      <th>0</th>\n",
       "      <td>454955</td>\n",
       "      <td>bowl-sun</td>\n",
       "      <td>Medium</td>\n",
       "      <td>acai</td>\n",
       "      <td>budget=32</td>\n",
       "      <td>['brunch', 'yard game', 'bright', 'acai']</td>\n",
       "      <td>4</td>\n",
       "      <td>12218</td>\n",
       "      <td>['bright', 'brunch']</td>\n",
       "      <td>2</td>\n",
       "      <td>-1</td>\n",
       "      <td>12218</td>\n",
       "      <td>['bright', 'brunch']</td>\n",
       "      <td>2</td>\n",
       "      <td>-1</td>\n",
       "    </tr>\n",
       "    <tr>\n",
       "      <th>...</th>\n",
       "      <td>...</td>\n",
       "      <td>...</td>\n",
       "      <td>...</td>\n",
       "      <td>...</td>\n",
       "      <td>...</td>\n",
       "      <td>...</td>\n",
       "      <td>...</td>\n",
       "      <td>...</td>\n",
       "      <td>...</td>\n",
       "      <td>...</td>\n",
       "      <td>...</td>\n",
       "      <td>...</td>\n",
       "      <td>...</td>\n",
       "      <td>...</td>\n",
       "      <td>...</td>\n",
       "    </tr>\n",
       "    <tr>\n",
       "      <th>0</th>\n",
       "      <td>491095</td>\n",
       "      <td>trauma-weird</td>\n",
       "      <td>Medium</td>\n",
       "      <td>flashbacks</td>\n",
       "      <td>budget=32</td>\n",
       "      <td>['flashbacks', 'nightmares', 'dreams']</td>\n",
       "      <td>3</td>\n",
       "      <td>12218</td>\n",
       "      <td>['dreams']</td>\n",
       "      <td>1</td>\n",
       "      <td>-1</td>\n",
       "      <td>12218</td>\n",
       "      <td>['dreams']</td>\n",
       "      <td>1</td>\n",
       "      <td>-1</td>\n",
       "    </tr>\n",
       "    <tr>\n",
       "      <th>0</th>\n",
       "      <td>491095</td>\n",
       "      <td>trauma-weird</td>\n",
       "      <td>Medium</td>\n",
       "      <td>flashbacks</td>\n",
       "      <td>budget=64</td>\n",
       "      <td>['flashbacks', 'nightmares', 'dreams']</td>\n",
       "      <td>3</td>\n",
       "      <td>12218</td>\n",
       "      <td>['dreams']</td>\n",
       "      <td>1</td>\n",
       "      <td>-1</td>\n",
       "      <td>12218</td>\n",
       "      <td>['dreams']</td>\n",
       "      <td>1</td>\n",
       "      <td>-1</td>\n",
       "    </tr>\n",
       "    <tr>\n",
       "      <th>0</th>\n",
       "      <td>491095</td>\n",
       "      <td>trauma-weird</td>\n",
       "      <td>Medium</td>\n",
       "      <td>flashbacks</td>\n",
       "      <td>budget=128</td>\n",
       "      <td>['flashbacks', 'nightmares', 'dreams']</td>\n",
       "      <td>3</td>\n",
       "      <td>12218</td>\n",
       "      <td>['dreams']</td>\n",
       "      <td>1</td>\n",
       "      <td>-1</td>\n",
       "      <td>12218</td>\n",
       "      <td>['dreams']</td>\n",
       "      <td>1</td>\n",
       "      <td>-1</td>\n",
       "    </tr>\n",
       "    <tr>\n",
       "      <th>0</th>\n",
       "      <td>491095</td>\n",
       "      <td>trauma-weird</td>\n",
       "      <td>Medium</td>\n",
       "      <td>flashbacks</td>\n",
       "      <td>budget=256</td>\n",
       "      <td>['flashbacks', 'nightmares', 'dreams']</td>\n",
       "      <td>3</td>\n",
       "      <td>12218</td>\n",
       "      <td>['dreams']</td>\n",
       "      <td>1</td>\n",
       "      <td>-1</td>\n",
       "      <td>12218</td>\n",
       "      <td>['dreams']</td>\n",
       "      <td>1</td>\n",
       "      <td>-1</td>\n",
       "    </tr>\n",
       "    <tr>\n",
       "      <th>0</th>\n",
       "      <td>491095</td>\n",
       "      <td>trauma-weird</td>\n",
       "      <td>Medium</td>\n",
       "      <td>flashbacks</td>\n",
       "      <td>budget=512</td>\n",
       "      <td>['flashbacks', 'nightmares', 'dreams']</td>\n",
       "      <td>3</td>\n",
       "      <td>12218</td>\n",
       "      <td>['dreams']</td>\n",
       "      <td>1</td>\n",
       "      <td>-1</td>\n",
       "      <td>12218</td>\n",
       "      <td>['dreams']</td>\n",
       "      <td>1</td>\n",
       "      <td>-1</td>\n",
       "    </tr>\n",
       "  </tbody>\n",
       "</table>\n",
       "<p>13104 rows × 15 columns</p>\n",
       "</div>"
      ],
      "text/plain": [
       "    clueGiverID      wordpair   Level   clueFinal      budget  \\\n",
       "0        454955      bowl-sun  Medium        acai    budget=2   \n",
       "0        454955      bowl-sun  Medium        acai    budget=4   \n",
       "0        454955      bowl-sun  Medium        acai    budget=8   \n",
       "0        454955      bowl-sun  Medium        acai   budget=16   \n",
       "0        454955      bowl-sun  Medium        acai   budget=32   \n",
       "..          ...           ...     ...         ...         ...   \n",
       "0        491095  trauma-weird  Medium  flashbacks   budget=32   \n",
       "0        491095  trauma-weird  Medium  flashbacks   budget=64   \n",
       "0        491095  trauma-weird  Medium  flashbacks  budget=128   \n",
       "0        491095  trauma-weird  Medium  flashbacks  budget=256   \n",
       "0        491095  trauma-weird  Medium  flashbacks  budget=512   \n",
       "\n",
       "                         behavioral_clue_list  len_cluelist_behavioral  \\\n",
       "0   ['brunch', 'yard game', 'bright', 'acai']                        4   \n",
       "0   ['brunch', 'yard game', 'bright', 'acai']                        4   \n",
       "0   ['brunch', 'yard game', 'bright', 'acai']                        4   \n",
       "0   ['brunch', 'yard game', 'bright', 'acai']                        4   \n",
       "0   ['brunch', 'yard game', 'bright', 'acai']                        4   \n",
       "..                                        ...                      ...   \n",
       "0      ['flashbacks', 'nightmares', 'dreams']                        3   \n",
       "0      ['flashbacks', 'nightmares', 'dreams']                        3   \n",
       "0      ['flashbacks', 'nightmares', 'dreams']                        3   \n",
       "0      ['flashbacks', 'nightmares', 'dreams']                        3   \n",
       "0      ['flashbacks', 'nightmares', 'dreams']                        3   \n",
       "\n",
       "    len_cluelist_union          union_common  len_union_common  \\\n",
       "0                12218  ['bright', 'brunch']                 2   \n",
       "0                12218  ['bright', 'brunch']                 2   \n",
       "0                12218  ['bright', 'brunch']                 2   \n",
       "0                12218  ['bright', 'brunch']                 2   \n",
       "0                12218  ['bright', 'brunch']                 2   \n",
       "..                 ...                   ...               ...   \n",
       "0                12218            ['dreams']                 1   \n",
       "0                12218            ['dreams']                 1   \n",
       "0                12218            ['dreams']                 1   \n",
       "0                12218            ['dreams']                 1   \n",
       "0                12218            ['dreams']                 1   \n",
       "\n",
       "    finalclue_index_union  len_cluelist_intersection   intersection_common  \\\n",
       "0                      -1                      12218  ['bright', 'brunch']   \n",
       "0                      -1                      12218  ['bright', 'brunch']   \n",
       "0                      -1                      12218  ['bright', 'brunch']   \n",
       "0                      -1                      12218  ['bright', 'brunch']   \n",
       "0                      -1                      12218  ['bright', 'brunch']   \n",
       "..                    ...                        ...                   ...   \n",
       "0                      -1                      12218            ['dreams']   \n",
       "0                      -1                      12218            ['dreams']   \n",
       "0                      -1                      12218            ['dreams']   \n",
       "0                      -1                      12218            ['dreams']   \n",
       "0                      -1                      12218            ['dreams']   \n",
       "\n",
       "    len_intersection_common  finalclue_index_intersection  \n",
       "0                         2                            -1  \n",
       "0                         2                            -1  \n",
       "0                         2                            -1  \n",
       "0                         2                            -1  \n",
       "0                         2                            -1  \n",
       "..                      ...                           ...  \n",
       "0                         1                            -1  \n",
       "0                         1                            -1  \n",
       "0                         1                            -1  \n",
       "0                         1                            -1  \n",
       "0                         1                            -1  \n",
       "\n",
       "[13104 rows x 15 columns]"
      ]
     },
     "execution_count": 9,
     "metadata": {},
     "output_type": "execute_result"
    }
   ],
   "source": [
    "common_candidates"
   ]
  },
  {
   "cell_type": "markdown",
   "metadata": {},
   "source": [
    "# Experiment 2: original connector"
   ]
  },
  {
   "cell_type": "code",
   "execution_count": null,
   "metadata": {},
   "outputs": [],
   "source": [
    "e2_data = pd.read_csv(\"../data/exp2/e2_empirical_clues.csv\", encoding= 'unicode_escape')\n",
    "target_df = pd.read_csv(\"../data/targets.csv\")\n",
    "print(target_df.head())\n",
    "representations = {}\n",
    "representations['swow'] = pd.read_csv(\"../data/swow_associative_embeddings.csv\").transpose().values\n",
    "print(f\"embeddings are shaped:\", representations['swow'].shape)\n",
    "with open('../data/exp2/e2_boards.json', 'r') as json_file:\n",
    "    e2_boards = json.load(json_file)\n"
   ]
  },
  {
   "cell_type": "markdown",
   "metadata": {},
   "source": [
    "## non-RSA\n",
    "\n",
    "Here we import the candidates from the json files and first compute how the non-RSA model would rank these candidates for each budget level. Next, we merge these obtained probabilities with the actual behavioral data "
   ]
  },
  {
   "cell_type": "code",
   "execution_count": null,
   "metadata": {},
   "outputs": [],
   "source": [
    "board_optimal_params = {\n",
    "    'swow' : (23.488850322875496, 1), # -13204\n",
    "    'glove' : (20.952928531665275, 1), # -15774.814774380024)\n",
    "    'bert-sum' : (19.983835225540847, 0.787924454045298),\n",
    "}"
   ]
  },
  {
   "cell_type": "code",
   "execution_count": null,
   "metadata": {},
   "outputs": [],
   "source": [
    "e2_data = nonRSA.apply_corrections(e2_data, corrections, vocab)\n",
    "e2_data['wordpair'] = e2_data['wordpair'].str.replace(' ', '')\n",
    "e2_data = e2_data.merge(target_df, on='wordpair', how='left')\n",
    "e2_data.to_csv(\"../data/exp2/e2_corrected.csv\", index=False)\n",
    "e2_data.head()\n"
   ]
  },
  {
   "cell_type": "code",
   "execution_count": null,
   "metadata": {},
   "outputs": [],
   "source": [
    "candidateprobs_nonRSA  = nonRSA.get_nonRSA_union_int(union_dict, intersection_dict, target_df, e2_boards, board_optimal_params, vocab, representations, e2_data, '../data/exp2/nonRSAprobs.csv')"
   ]
  },
  {
   "cell_type": "markdown",
   "metadata": {},
   "source": [
    "## RSA"
   ]
  },
  {
   "cell_type": "code",
   "execution_count": null,
   "metadata": {},
   "outputs": [],
   "source": [
    "rsa_optimal_params = {\n",
    "    'swow' : (25.1522030761838, 0.03863169001849234),\n",
    "    'glove' : (82.83019661384789, 0.9997249702731884),\n",
    "    'bert-sum' : (29.709602301411962, 0.031659060110267576), #-17533\n",
    "}"
   ]
  },
  {
   "cell_type": "code",
   "execution_count": null,
   "metadata": {},
   "outputs": [],
   "source": [
    "candidateprobs_RSA  = RSA.get_RSA_union_int(union_dict, intersection_dict, target_df, e2_boards, rsa_optimal_params, vocab, representations, e2_data, '../data/exp2/RSAprobs.csv')"
   ]
  },
  {
   "cell_type": "markdown",
   "metadata": {},
   "source": [
    "# Experiment 3: targeted endorsements\n",
    "Here, we look at how the models predict specific target endorsements from the candidate set provided to the speaker"
   ]
  },
  {
   "cell_type": "code",
   "execution_count": null,
   "metadata": {},
   "outputs": [],
   "source": [
    "with open('../data/exp3/e3_boards.json', 'r') as json_file:\n",
    "    e3_boards = json.load(json_file)\n",
    "e3_stimuli = pd.read_csv('../data/exp3/e3_stimuli.csv')\n",
    "## pass through corrections file\n",
    "e3_stimuli = nonRSA.apply_corrections(e3_stimuli, corrections, vocab)\n",
    "# create column that records whether correctedClue in vocab or not\n",
    "e3_stimuli['correctedClue_in_vocab'] = e3_stimuli['correctedClue'].isin(vocab['vocab_word'])\n",
    "# merge with target_df\n",
    "e3_stimuli = e3_stimuli.merge(target_df, on='wordpair', how='left')\n",
    "e3_stimuli.head()"
   ]
  },
  {
   "cell_type": "markdown",
   "metadata": {},
   "source": [
    "## non-RSA probabilities"
   ]
  },
  {
   "cell_type": "code",
   "execution_count": null,
   "metadata": {},
   "outputs": [],
   "source": [
    "e3_nonRSA = nonRSA.get_nonRSA_union_int(union_dict, intersection_dict, target_df, e3_boards, board_optimal_params, vocab, representations, e3_stimuli, '../data/exp3/nonRSAprobs.csv')"
   ]
  },
  {
   "cell_type": "markdown",
   "metadata": {},
   "source": [
    "## RSA probabilities"
   ]
  },
  {
   "cell_type": "code",
   "execution_count": null,
   "metadata": {},
   "outputs": [],
   "source": [
    "e3_nonRSA  = RSA.get_RSA_union_int(union_dict, intersection_dict, target_df, e3_boards, rsa_optimal_params, vocab, representations, e3_stimuli, '../data/exp3/RSAprobs.csv')"
   ]
  },
  {
   "cell_type": "markdown",
   "metadata": {},
   "source": [
    "# other code "
   ]
  },
  {
   "cell_type": "code",
   "execution_count": null,
   "metadata": {},
   "outputs": [],
   "source": [
    "# code for finding closest matches to a given word (spell-check)\n",
    "from english_words import english_words_set\n",
    "'imitate' in english_words_set\n",
    "import difflib\n",
    "difflib.get_close_matches('turbine', list(english_words_set))\n"
   ]
  },
  {
   "cell_type": "code",
   "execution_count": null,
   "metadata": {},
   "outputs": [],
   "source": [
    "expdata_long = e3_stimuli.groupby(['wordpair'], as_index=False)['value'].agg(','.join)\n",
    "expdata_long['clue_list'] = expdata_long['value'].str.split(',')\n",
    "expdata_long = expdata_long.merge(target_df, on = \"wordpair\")\n",
    "# count how many clues for each wordpair are not in vocab\n",
    "expdata_long['len_cluelist_not_in_vocab'] = expdata_long['clue_list'].apply(lambda x: len([e for e in x if e not in list(vocab.vocab_word)]))\n",
    "expdata_long_subset = expdata_long[expdata_long['len_cluelist_not_in_vocab'] == 0]\n"
   ]
  },
  {
   "cell_type": "markdown",
   "metadata": {
    "id": "Qt6jgRIeM7YO"
   },
   "source": [
    "# Old: Dedicated functions for full vocab"
   ]
  },
  {
   "cell_type": "code",
   "execution_count": null,
   "metadata": {
    "id": "5gKTDYETeKlH"
   },
   "outputs": [],
   "source": [
    "## create boards and merge with expdata\n",
    "combined_boards_df = pd.DataFrame(columns=['Experiment', 'Board','boardwords'])\n",
    "combined_boards_df[\"Experiment\"]  = [\"E1\"] * 10 + [\"E2\"] * 10\n",
    "combined_boards_df[\"Board\"] = [\"TrialList\" + str(i) for i in range(1,11)] * 2\n",
    "combined_boards_df[\"boardnames\"] = (['e1_board' + str(i) + '_words' for i in range(1,11)] \n",
    "                                  + ['e2_board' + str(i) + '_words' for i in range(1,11)])\n",
    "combined_boards_df[\"boardwords\"] = [boards[n] for n in combined_boards_df[\"boardnames\"]]\n",
    "\n",
    "expdata_new = pd.merge(expdata,combined_boards_df,on=['Board', 'Experiment'],how='left')\n",
    "expdata_new[\"wordpair\"] = expdata_new[\"Word1\"] + \"-\" + expdata_new[\"Word2\"]\n",
    "board_combos = {board_name : search_funcs.RSA.compute_board_combos(board_name, boards) for board_name in boards.keys()}"
   ]
  },
  {
   "cell_type": "markdown",
   "metadata": {
    "id": "FZOYctgjM5NM"
   },
   "source": [
    "## Non - RSA method\n"
   ]
  },
  {
   "cell_type": "code",
   "execution_count": null,
   "metadata": {
    "id": "v8QEomkF4hmB"
   },
   "outputs": [],
   "source": [
    "board_optimal_params = {\n",
    "    'swow' : (23.488850322875496, 1), # -13204\n",
    "    'glove' : (20.952928531665275, 1), # -15774.814774380024)\n",
    "    'bert-sum' : (19.983835225540847, 0.787924454045298),\n",
    "}"
   ]
  },
  {
   "cell_type": "code",
   "execution_count": null,
   "metadata": {
    "id": "9r7kmGrcNCvB"
   },
   "outputs": [],
   "source": [
    "cluescoredf = nonRSA.speaker_targetboard_cluescores(['swow', 'glove'], board_optimal_params, board_combos, boards, list(vocab.vocab_word), vocab, representations, target_df, expdata_new)\n",
    "cluescoredf.head()"
   ]
  },
  {
   "cell_type": "markdown",
   "metadata": {
    "id": "67827P5C897A"
   },
   "source": [
    "## RSA Method"
   ]
  },
  {
   "cell_type": "code",
   "execution_count": null,
   "metadata": {
    "id": "IVrhPE-xN6I4"
   },
   "outputs": [],
   "source": [
    "rsa_optimal_params = {\n",
    "    'swow' : (25.1522030761838, 0.03863169001849234),\n",
    "    'glove' : (22.336514544537227, 0.039),\n",
    "    'bert-sum' : (29.709602301411962, 0.031659060110267576), #-17533\n",
    "}"
   ]
  },
  {
   "cell_type": "code",
   "execution_count": null,
   "metadata": {
    "id": "ewq3Y68zSd_H"
   },
   "outputs": [],
   "source": [
    "pragmaticspeakerdf = search_funcs.RSA.get_speaker_df(representations, combined_boards_df,rsa_optimal_params, list(vocab.vocab_word), vocab, expdata_new, board_combos, target_df, boards)\n",
    "pragmaticspeakerdf.head()"
   ]
  }
 ],
 "metadata": {
  "colab": {
   "authorship_tag": "ABX9TyPN3gA5HcesL1IibYO9jUBA",
   "collapsed_sections": [],
   "include_colab_link": true,
   "machine_shape": "hm",
   "name": "search-models.ipynb",
   "provenance": [],
   "toc_visible": true
  },
  "kernelspec": {
   "display_name": "connector",
   "language": "python",
   "name": "connector"
  },
  "language_info": {
   "codemirror_mode": {
    "name": "ipython",
    "version": 3
   },
   "file_extension": ".py",
   "mimetype": "text/x-python",
   "name": "python",
   "nbconvert_exporter": "python",
   "pygments_lexer": "ipython3",
   "version": "3.11.4"
  },
  "vscode": {
   "interpreter": {
    "hash": "31f2aee4e71d21fbe5cf8b01ff0e069b9275f58929596ceb00d14d90e3e16cd6"
   }
  }
 },
 "nbformat": 4,
 "nbformat_minor": 4
}
